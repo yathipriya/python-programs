{
 "cells": [
  {
   "cell_type": "code",
   "execution_count": 1,
   "metadata": {},
   "outputs": [
    {
     "name": "stdout",
     "output_type": "stream",
     "text": [
      "enter email id:yathirajampriya29@gmail.com\n"
     ]
    },
    {
     "data": {
      "text/plain": [
       "'yathirajampriya29@gmail.com'"
      ]
     },
     "execution_count": 1,
     "metadata": {},
     "output_type": "execute_result"
    }
   ],
   "source": [
    "import re\n",
    "def number (r):\n",
    "    z=re.match(\"([a-zA-Z\\d_.]+@[a-zA-Z]+.[A-Za-z]{2,20})\",r)\n",
    "    return z\n",
    "r=input(\"enter email id:\")\n",
    "number(r).group()\n",
    " \n"
   ]
  },
  {
   "cell_type": "code",
   "execution_count": 3,
   "metadata": {},
   "outputs": [
    {
     "name": "stdout",
     "output_type": "stream",
     "text": [
      "enter the namepriya\n",
      "enter number9348581033\n",
      "contact succesfully created\n"
     ]
    },
    {
     "data": {
      "text/plain": [
       "{'priya': '9348581033'}"
      ]
     },
     "execution_count": 3,
     "metadata": {},
     "output_type": "execute_result"
    }
   ],
   "source": [
    "import re\n",
    "dict1={}\n",
    "a=input(\"enter the name\")\n",
    "b=input(\"enter number\")\n",
    "x=re.match('[a-zA-z]{3,10}',a).group()\n",
    "y=re.match('^(9|8|7|6)[0-9]{9}',b).group()\n",
    "dict1[x]=y\n",
    "dict1\n",
    "if dict1:\n",
    "    print(\"contact succesfully created\")\n",
    "dict1\n"
   ]
  },
  {
   "cell_type": "code",
   "execution_count": 5,
   "metadata": {},
   "outputs": [
    {
     "name": "stdout",
     "output_type": "stream",
     "text": [
      "sunccesfully \n",
      "sunccesfully \n",
      "sunccesfully \n"
     ]
    }
   ],
   "source": [
    "phone={}\n",
    "def contact(name,number):\n",
    "    if name  not in phone:\n",
    "        phone[name]=number\n",
    "        print(\"sunccesfully \")\n",
    "    else:\n",
    "        print(\"already exist\")\n",
    "    return \n",
    "contact(\"priya\",\"9348581033\")\n",
    "contact(\"pooja\",\"56258963\")\n",
    "contact(\"raja\",\"56258963\")\n"
   ]
  },
  {
   "cell_type": "code",
   "execution_count": 7,
   "metadata": {},
   "outputs": [
    {
     "name": "stdout",
     "output_type": "stream",
     "text": [
      "9348581033\n"
     ]
    }
   ],
   "source": [
    "#displaying the number\n",
    "def search(a):\n",
    " x=phone.get(a)\n",
    " if a not in phone:\n",
    "       print(\"not exist\")\n",
    " else:\n",
    "      print(x)\n",
    "search('priya')\n",
    "\n",
    "\n"
   ]
  },
  {
   "cell_type": "code",
   "execution_count": 8,
   "metadata": {},
   "outputs": [
    {
     "name": "stdout",
     "output_type": "stream",
     "text": [
      "enter a name to deletepooja\n",
      "deleted succusfully\n"
     ]
    }
   ],
   "source": [
    "#deleting the number\n",
    "a=input(\"enter a name to delete\")\n",
    "if a in phone:\n",
    "    phone.pop(a)\n",
    "    print(\"deleted succusfully\")\n",
    "else:\n",
    "    print(\"detail not found\")\n",
    "\n",
    "\n"
   ]
  },
  {
   "cell_type": "code",
   "execution_count": 5,
   "metadata": {},
   "outputs": [
    {
     "name": "stdout",
     "output_type": "stream",
     "text": [
      "enter a sentencePriYa\n",
      "P Y "
     ]
    }
   ],
   "source": [
    "#identifying caplocks.\n",
    "a=input(\"enter a word\")\n",
    "for i in a:\n",
    "    if ord(i)>=65 and ord(i)<=90:\n",
    "        print(i,end=\" \")"
   ]
  },
  {
   "cell_type": "code",
   "execution_count": null,
   "metadata": {},
   "outputs": [],
   "source": [
    "#second word in caplock\n",
    "a=input(\"enter a string\")\n",
    "list1=[]\n",
    "list1=a.split()  \n",
    "list1\n",
    "for i in range(0,2):\n",
    "    if \n",
    "    \n",
    "    "
   ]
  },
  {
   "cell_type": "code",
   "execution_count": null,
   "metadata": {},
   "outputs": [],
   "source": []
  }
 ],
 "metadata": {
  "kernelspec": {
   "display_name": "Python 3",
   "language": "python",
   "name": "python3"
  },
  "language_info": {
   "codemirror_mode": {
    "name": "ipython",
    "version": 3
   },
   "file_extension": ".py",
   "mimetype": "text/x-python",
   "name": "python",
   "nbconvert_exporter": "python",
   "pygments_lexer": "ipython3",
   "version": "3.7.4"
  }
 },
 "nbformat": 4,
 "nbformat_minor": 2
}
