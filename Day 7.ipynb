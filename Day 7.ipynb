{
 "cells": [
  {
   "cell_type": "markdown",
   "metadata": {},
   "source": [
    "# OPERATORS"
   ]
  },
  {
   "cell_type": "code",
   "execution_count": 1,
   "metadata": {},
   "outputs": [
    {
     "name": "stdout",
     "output_type": "stream",
     "text": [
      "30\n",
      "-10\n",
      "200\n",
      "0.5\n",
      "0\n",
      "10\n",
      "100000000000000000000\n"
     ]
    }
   ],
   "source": [
    "# 1.Arthimetic operatoers: +,-,*,/,%,//(floor divison),**(exponent)\n",
    "a = 10\n",
    "b = 20\n",
    "print( a + b)\n",
    "print( a - b)\n",
    "print( a * b)\n",
    "print( a / b)\n",
    "print( a // b)\n",
    "print( a % b)\n",
    "print( a ** b)\n"
   ]
  },
  {
   "cell_type": "code",
   "execution_count": 4,
   "metadata": {},
   "outputs": [
    {
     "data": {
      "text/plain": [
       "-7"
      ]
     },
     "execution_count": 4,
     "metadata": {},
     "output_type": "execute_result"
    }
   ],
   "source": [
    "-20 //3"
   ]
  },
  {
   "cell_type": "markdown",
   "metadata": {},
   "source": [
    "# Logical operators : And,or,not"
   ]
  },
  {
   "cell_type": "code",
   "execution_count": 6,
   "metadata": {},
   "outputs": [
    {
     "name": "stdout",
     "output_type": "stream",
     "text": [
      "20\n"
     ]
    }
   ],
   "source": [
    "print(a and b)"
   ]
  },
  {
   "cell_type": "code",
   "execution_count": 7,
   "metadata": {},
   "outputs": [
    {
     "name": "stdout",
     "output_type": "stream",
     "text": [
      "True\n",
      "True\n",
      "False\n"
     ]
    }
   ],
   "source": [
    "print(a>0 and b>0) #T,T-T OR F\n",
    "print(a>0 or b>0) #F,F-F OR T\n",
    "print(not(a>0))\n"
   ]
  },
  {
   "cell_type": "markdown",
   "metadata": {},
   "source": [
    "# RELATIONAL OPERATORS"
   ]
  },
  {
   "cell_type": "markdown",
   "metadata": {},
   "source": [
    "## comparission"
   ]
  },
  {
   "cell_type": "code",
   "execution_count": null,
   "metadata": {},
   "outputs": [],
   "source": [
    "# >, < ,>=,==,!=\n",
    "print(a < b)\n",
    "print(a > b)\n",
    "print( a >= b)\n",
    "print(  )\n",
    "print( )\n"
   ]
  },
  {
   "cell_type": "code",
   "execution_count": 9,
   "metadata": {},
   "outputs": [
    {
     "name": "stdout",
     "output_type": "stream",
     "text": [
      "36\n"
     ]
    }
   ],
   "source": [
    "# Assignment operators\n",
    "# =,+=.-=,*=,%=,/=,//=,**=\n",
    "i = 10\n",
    "i+= 1\n",
    "i-=2\n",
    "i*=4\n",
    "print(i)"
   ]
  },
  {
   "cell_type": "code",
   "execution_count": null,
   "metadata": {},
   "outputs": [],
   "source": [
    "# Bitwise Operators - &,/,!,<<,>>\n",
    "# a = 10-->\n",
    "# b = 20-->\n",
    "print(a & b)#0000 1010\n",
    "print(a | b)#0001 0100\n",
    "print(a ^ b) #0001 1110\n",
    "print(~a)#\n",
    "# 1111 0101\n",
    "# +     1\n",
    "# 1111 0110\n",
    "print(a << 2) # 0010 1000\n",
    "print(a >> 2)# 0000 0010"
   ]
  },
  {
   "cell_type": "code",
   "execution_count": 14,
   "metadata": {},
   "outputs": [
    {
     "data": {
      "text/plain": [
       "True"
      ]
     },
     "execution_count": 14,
     "metadata": {},
     "output_type": "execute_result"
    }
   ],
   "source": [
    "# 6.Membership operators: in,not in\n",
    "list1 = [12,23,34,5,56]\n",
    "121 not in list1"
   ]
  },
  {
   "cell_type": "code",
   "execution_count": 15,
   "metadata": {},
   "outputs": [
    {
     "data": {
      "text/plain": [
       "False"
      ]
     },
     "execution_count": 15,
     "metadata": {},
     "output_type": "execute_result"
    }
   ],
   "source": [
    "# Identity operators : is, is not\n",
    "x = 10\n",
    "y = 20\n",
    "x is y"
   ]
  },
  {
   "cell_type": "code",
   "execution_count": 21,
   "metadata": {},
   "outputs": [
    {
     "data": {
      "text/plain": [
       "True"
      ]
     },
     "execution_count": 21,
     "metadata": {},
     "output_type": "execute_result"
    }
   ],
   "source": [
    "x = 10 \n",
    "y = 20 \n",
    "z = 10\n",
    "x is z\n",
    "x is not y"
   ]
  },
  {
   "cell_type": "code",
   "execution_count": 17,
   "metadata": {},
   "outputs": [
    {
     "data": {
      "text/plain": [
       "8791272104624"
      ]
     },
     "execution_count": 17,
     "metadata": {},
     "output_type": "execute_result"
    }
   ],
   "source": [
    "id(x)"
   ]
  },
  {
   "cell_type": "code",
   "execution_count": 18,
   "metadata": {},
   "outputs": [
    {
     "data": {
      "text/plain": [
       "8791272104944"
      ]
     },
     "execution_count": 18,
     "metadata": {},
     "output_type": "execute_result"
    }
   ],
   "source": [
    "id(y)"
   ]
  },
  {
   "cell_type": "code",
   "execution_count": 19,
   "metadata": {},
   "outputs": [
    {
     "data": {
      "text/plain": [
       "8791272104624"
      ]
     },
     "execution_count": 19,
     "metadata": {},
     "output_type": "execute_result"
    }
   ],
   "source": [
    "id(z)"
   ]
  },
  {
   "cell_type": "markdown",
   "metadata": {},
   "source": [
    "# Ternary operator"
   ]
  },
  {
   "cell_type": "code",
   "execution_count": 22,
   "metadata": {},
   "outputs": [
    {
     "data": {
      "text/plain": [
       "10"
      ]
     },
     "execution_count": 22,
     "metadata": {},
     "output_type": "execute_result"
    }
   ],
   "source": [
    "# [on true] if [condition] else [on false]\n",
    "res = x if x<y else y\n",
    "res"
   ]
  },
  {
   "cell_type": "code",
   "execution_count": 23,
   "metadata": {},
   "outputs": [
    {
     "name": "stdout",
     "output_type": "stream",
     "text": [
      "enter a number:6\n"
     ]
    },
    {
     "data": {
      "text/plain": [
       "36"
      ]
     },
     "execution_count": 23,
     "metadata": {},
     "output_type": "execute_result"
    }
   ],
   "source": [
    "# Read a number as input,if number is even then return square of the number.If it is not an even number then multiply with 3 and return.\n",
    "\n",
    "a = int(input(\"enter a number:\"))\n",
    "b=a*a if a%2==0 else a*3\n",
    "b\n",
    "\n",
    "\n",
    "\n"
   ]
  },
  {
   "cell_type": "code",
   "execution_count": 24,
   "metadata": {},
   "outputs": [
    {
     "name": "stdout",
     "output_type": "stream",
     "text": [
      "enter the number4\n"
     ]
    },
    {
     "data": {
      "text/plain": [
       "16"
      ]
     },
     "execution_count": 24,
     "metadata": {},
     "output_type": "execute_result"
    }
   ],
   "source": [
    "n = int(input(\"enter the number\"))\n",
    "ans = n**2 if n%2==0 else n*3\n",
    "ans"
   ]
  },
  {
   "cell_type": "markdown",
   "metadata": {},
   "source": [
    "# FUNCTIONS\n",
    "## 1.Built-in functions\n",
    "## 2.User-defined functions\n",
    "### Syntax:\n",
    "#### Def function_name(arg list):\n",
    "####         ...............\n",
    "####         ...............\n",
    "####        return value"
   ]
  },
  {
   "cell_type": "code",
   "execution_count": null,
   "metadata": {},
   "outputs": [],
   "source": [
    "Reuseability\n"
   ]
  },
  {
   "cell_type": "code",
   "execution_count": 28,
   "metadata": {},
   "outputs": [
    {
     "name": "stdout",
     "output_type": "stream",
     "text": [
      "(30, -10, 200)\n",
      "(300, -100, 20000)\n"
     ]
    }
   ],
   "source": [
    "def add(x,y):\n",
    "    sum = x+y\n",
    "    return sum,x-y,x*y\n",
    "print(add(10,20))\n",
    "print(add(100,200))\n"
   ]
  },
  {
   "cell_type": "code",
   "execution_count": 27,
   "metadata": {},
   "outputs": [
    {
     "name": "stdout",
     "output_type": "stream",
     "text": [
      "30\n"
     ]
    }
   ],
   "source": [
    "def add(x,y):\n",
    "    sum = x+y\n",
    "    print(sum)\n",
    "add(10,20)"
   ]
  },
  {
   "cell_type": "code",
   "execution_count": 29,
   "metadata": {},
   "outputs": [
    {
     "name": "stdout",
     "output_type": "stream",
     "text": [
      "enter a number65\n",
      "6\n"
     ]
    }
   ],
   "source": [
    "# Create a function to read a number and return sum of even digits in the given nuumber\n",
    "def Sum(n): \n",
    "    sum=0\n",
    "    while (n > 0): \n",
    "        rem = (n % 10)\n",
    "        if rem%2==0:\n",
    "            sum=sum+rem\n",
    "        \n",
    "        n = int(n/10) \n",
    "    return sum  \n",
    "n = int(input(\"enter a number\"))\n",
    "print(Sum(n)) \n",
    " \n",
    "\n",
    "    "
   ]
  },
  {
   "cell_type": "code",
   "execution_count": 34,
   "metadata": {},
   "outputs": [
    {
     "name": "stdout",
     "output_type": "stream",
     "text": [
      "enter a number:1470\n",
      "7\n"
     ]
    }
   ],
   "source": [
    "# Read a number and Print the large digit using functions\n",
    "def large(a):\n",
    "    b=max(a)\n",
    "    return b\n",
    "a=(input(\"enter a number:\"))\n",
    "print(large(a))\n"
   ]
  },
  {
   "cell_type": "code",
   "execution_count": null,
   "metadata": {},
   "outputs": [],
   "source": [
    "# Read a number Input and Output reverse of the given number"
   ]
  },
  {
   "cell_type": "code",
   "execution_count": 1,
   "metadata": {},
   "outputs": [
    {
     "name": "stdout",
     "output_type": "stream",
     "text": [
      "enter a number:123\n",
      "321\n"
     ]
    }
   ],
   "source": [
    "def reverse(x):\n",
    "    d=0\n",
    "    while (x>0):\n",
    "        rem =(x%10)\n",
    "        d=d*10+rem\n",
    "        x = int(x//10)\n",
    "    return d\n",
    "x = int(input(\"enter a number:\"))\n",
    "print(reverse(x))\n"
   ]
  },
  {
   "cell_type": "code",
   "execution_count": 3,
   "metadata": {},
   "outputs": [
    {
     "name": "stdout",
     "output_type": "stream",
     "text": [
      "enter a number15\n",
      "1\n",
      "1\n"
     ]
    }
   ],
   "source": [
    "# function to print N Natural numbers with for loopf\n",
    "def number(x):\n",
    "    i=1\n",
    "    while(x>i):\n",
    "        print(i)\n",
    "        i=i+i\n",
    "        return 1\n",
    "x=int(input(\"enter a number\"))\n",
    "print(number(x))"
   ]
  },
  {
   "cell_type": "code",
   "execution_count": 5,
   "metadata": {},
   "outputs": [
    {
     "name": "stdout",
     "output_type": "stream",
     "text": [
      "enter the stsrting limit5\n",
      "enter the last limit10\n",
      "5\n",
      "6\n",
      "7\n",
      "8\n",
      "9\n",
      "10"
     ]
    }
   ],
   "source": [
    "def prime(x,y):\n",
    "    while(y>x):\n",
    "        print(x)\n",
    "        x=x+1\n",
    "    return x\n",
    "x=int(input(\"enter the stsrting limit\"))\n",
    "y=int(input(\"enter the last limit\"))\n",
    "print(prime(x,y),end= \"\")"
   ]
  },
  {
   "cell_type": "code",
   "execution_count": null,
   "metadata": {},
   "outputs": [],
   "source": []
  }
 ],
 "metadata": {
  "kernelspec": {
   "display_name": "Python 3",
   "language": "python",
   "name": "python3"
  },
  "language_info": {
   "codemirror_mode": {
    "name": "ipython",
    "version": 3
   },
   "file_extension": ".py",
   "mimetype": "text/x-python",
   "name": "python",
   "nbconvert_exporter": "python",
   "pygments_lexer": "ipython3",
   "version": "3.7.4"
  }
 },
 "nbformat": 4,
 "nbformat_minor": 2
}
