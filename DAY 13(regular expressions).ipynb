{
 "cells": [
  {
   "cell_type": "code",
   "execution_count": null,
   "metadata": {},
   "outputs": [],
   "source": [
    "[abc] -a or b or c\n",
    "[a-c] - ab -ac, bc\n",
    "^Sai Raj$"
   ]
  },
  {
   "cell_type": "code",
   "execution_count": null,
   "metadata": {},
   "outputs": [],
   "source": [
    "ruby* - 0 or more times - rub, ruby, rubyy, rubyy"
   ]
  },
  {
   "cell_type": "code",
   "execution_count": null,
   "metadata": {},
   "outputs": [],
   "source": [
    "ru*by+ -  1  or more times- ruby, rubyy, rubyy  rub, ruub, "
   ]
  },
  {
   "cell_type": "code",
   "execution_count": null,
   "metadata": {},
   "outputs": [],
   "source": [
    "ruby? - 0 or 1 time - rub or ruby"
   ]
  },
  {
   "cell_type": "code",
   "execution_count": null,
   "metadata": {},
   "outputs": [],
   "source": [
    "ruby{2, 9}"
   ]
  },
  {
   "cell_type": "code",
   "execution_count": 23,
   "metadata": {},
   "outputs": [
    {
     "ename": "NameError",
     "evalue": "name 'x' is not defined",
     "output_type": "error",
     "traceback": [
      "\u001b[1;31m---------------------------------------------------------------------------\u001b[0m",
      "\u001b[1;31mNameError\u001b[0m                                 Traceback (most recent call last)",
      "\u001b[1;32m<ipython-input-23-499923c707a8>\u001b[0m in \u001b[0;36m<module>\u001b[1;34m\u001b[0m\n\u001b[1;32m----> 1\u001b[1;33m \u001b[1;33m(\u001b[0m\u001b[0mx\u001b[0m\u001b[1;33m|\u001b[0m\u001b[0my\u001b[0m\u001b[1;33m|\u001b[0m\u001b[0mz\u001b[0m\u001b[1;33m)\u001b[0m\u001b[1;33m\u001b[0m\u001b[1;33m\u001b[0m\u001b[0m\n\u001b[0m",
      "\u001b[1;31mNameError\u001b[0m: name 'x' is not defined"
     ]
    }
   ],
   "source": [
    "(x|y|z)  x or y or z"
   ]
  },
  {
   "cell_type": "code",
   "execution_count": null,
   "metadata": {},
   "outputs": [],
   "source": [
    "\\w= match the words, digits, _"
   ]
  },
  {
   "cell_type": "code",
   "execution_count": null,
   "metadata": {},
   "outputs": [],
   "source": [
    "\\W - matches a non word"
   ]
  },
  {
   "cell_type": "code",
   "execution_count": null,
   "metadata": {},
   "outputs": [],
   "source": [
    "\\d - match the digit (0-9)"
   ]
  },
  {
   "cell_type": "code",
   "execution_count": null,
   "metadata": {},
   "outputs": [],
   "source": [
    "\\D - matches a non digit"
   ]
  },
  {
   "cell_type": "code",
   "execution_count": null,
   "metadata": {},
   "outputs": [],
   "source": [
    "\\s -matches a whitespace or tab space"
   ]
  },
  {
   "cell_type": "code",
   "execution_count": null,
   "metadata": {},
   "outputs": [],
   "source": [
    "\\S - matches a non white space"
   ]
  },
  {
   "cell_type": "code",
   "execution_count": null,
   "metadata": {},
   "outputs": [],
   "source": [
    "."
   ]
  },
  {
   "cell_type": "code",
   "execution_count": null,
   "metadata": {},
   "outputs": [],
   "source": [
    "!@#- \\!, \\@, \\#"
   ]
  },
  {
   "cell_type": "code",
   "execution_count": null,
   "metadata": {},
   "outputs": [],
   "source": [
    "match(), search(), findall(), split(), sub()"
   ]
  },
  {
   "cell_type": "code",
   "execution_count": null,
   "metadata": {},
   "outputs": [],
   "source": [
    "match()- matches only the beginning of the string"
   ]
  },
  {
   "cell_type": "code",
   "execution_count": 6,
   "metadata": {},
   "outputs": [
    {
     "data": {
      "text/plain": [
       "<re.Match object; span=(0, 14), match='Sai Raj, Priya'>"
      ]
     },
     "execution_count": 6,
     "metadata": {},
     "output_type": "execute_result"
    }
   ],
   "source": [
    "import re   # re.match(pattern, string)\n",
    "a = \"Sai Raj, Priya\"\n",
    "mat = re.match(r\"\\w+\\s\\w+\\,\\s\\w+\", a)\n",
    "mat"
   ]
  },
  {
   "cell_type": "code",
   "execution_count": 5,
   "metadata": {},
   "outputs": [
    {
     "data": {
      "text/plain": [
       "'Sai Raj, Priya'"
      ]
     },
     "execution_count": 5,
     "metadata": {},
     "output_type": "execute_result"
    }
   ],
   "source": [
    "import re   # re.match(pattern, string)\n",
    "a = \"Sai Raj, Priya\"\n",
    "mat = re.match(r\"\\w+\\s\\w+\\,\\s\\w+\", a)\n",
    "mat.group()"
   ]
  },
  {
   "cell_type": "code",
   "execution_count": 13,
   "metadata": {},
   "outputs": [
    {
     "ename": "AttributeError",
     "evalue": "'NoneType' object has no attribute 'group'",
     "output_type": "error",
     "traceback": [
      "\u001b[1;31m---------------------------------------------------------------------------\u001b[0m",
      "\u001b[1;31mAttributeError\u001b[0m                            Traceback (most recent call last)",
      "\u001b[1;32m<ipython-input-13-b2e8fce0d504>\u001b[0m in \u001b[0;36m<module>\u001b[1;34m\u001b[0m\n\u001b[0;32m      2\u001b[0m \u001b[0ma\u001b[0m \u001b[1;33m=\u001b[0m \u001b[1;34m\"Hai Sai Raj, Priya\"\u001b[0m\u001b[1;33m\u001b[0m\u001b[1;33m\u001b[0m\u001b[0m\n\u001b[0;32m      3\u001b[0m \u001b[0mmat\u001b[0m \u001b[1;33m=\u001b[0m \u001b[0mre\u001b[0m\u001b[1;33m.\u001b[0m\u001b[0mmatch\u001b[0m\u001b[1;33m(\u001b[0m\u001b[1;34mr\"S\\w+\\s\\w+\\,\\s\\w+\"\u001b[0m\u001b[1;33m,\u001b[0m \u001b[0ma\u001b[0m\u001b[1;33m)\u001b[0m\u001b[1;33m\u001b[0m\u001b[1;33m\u001b[0m\u001b[0m\n\u001b[1;32m----> 4\u001b[1;33m \u001b[0mmat\u001b[0m\u001b[1;33m.\u001b[0m\u001b[0mgroup\u001b[0m\u001b[1;33m(\u001b[0m\u001b[1;33m)\u001b[0m\u001b[1;33m\u001b[0m\u001b[1;33m\u001b[0m\u001b[0m\n\u001b[0m",
      "\u001b[1;31mAttributeError\u001b[0m: 'NoneType' object has no attribute 'group'"
     ]
    }
   ],
   "source": [
    "import re   # re.match(pattern, string)\n",
    "a = \"Hai Sai Raj, Priya\"\n",
    "mat = re.match(r\"S\\w+\\s\\w+\\,\\s\\w+\", a)\n",
    "mat.group()"
   ]
  },
  {
   "cell_type": "code",
   "execution_count": 14,
   "metadata": {},
   "outputs": [
    {
     "data": {
      "text/plain": [
       "'Sai Raj, Priya'"
      ]
     },
     "execution_count": 14,
     "metadata": {},
     "output_type": "execute_result"
    }
   ],
   "source": [
    "import re   # re.match(pattern, string  # matches only the starting of the string\n",
    "a = \"Hai Sai Raj, Priya\"\n",
    "mat = re.search(r\"S\\w+\\s\\w+\\,\\s\\w+\", a)\n",
    "mat.group()"
   ]
  },
  {
   "cell_type": "code",
   "execution_count": 17,
   "metadata": {},
   "outputs": [
    {
     "data": {
      "text/plain": [
       "'Sai Raj'"
      ]
     },
     "execution_count": 17,
     "metadata": {},
     "output_type": "execute_result"
    }
   ],
   "source": [
    "import re   # re.match(pattern, string)  # matches only the first occurance in the string  Syntax: re.search(pattern, string)\n",
    "a = \"Hai Sai Raj, Priya, Sai Raj\"\n",
    "mat = re.search(r\"S\\w+\\s\\w+\", a)\n",
    "mat.group()"
   ]
  },
  {
   "cell_type": "code",
   "execution_count": 19,
   "metadata": {},
   "outputs": [
    {
     "data": {
      "text/plain": [
       "['Sai Raj', 'Sai Raj']"
      ]
     },
     "execution_count": 19,
     "metadata": {},
     "output_type": "execute_result"
    }
   ],
   "source": [
    "import re   # re.match(pattern, string)  # matches only the first occurance in the string  Syntax: re.findall(pattern, string)\n",
    "a = \"Hai Sai Raj, Priya, Sai Raj\"\n",
    "mat = re.findall(r\"S\\w+\\s\\w+\", a)\n",
    "mat"
   ]
  },
  {
   "cell_type": "code",
   "execution_count": 20,
   "metadata": {},
   "outputs": [
    {
     "data": {
      "text/plain": [
       "['', ', Priya, Sai: Raj']"
      ]
     },
     "execution_count": 20,
     "metadata": {},
     "output_type": "execute_result"
    }
   ],
   "source": [
    "a = \"Sai Raj:, Priya, Sai: Raj\"\n",
    "mat = re.split(r\"\\w+\\s\\w+\\:\", a)\n",
    "mat"
   ]
  },
  {
   "cell_type": "code",
   "execution_count": 22,
   "metadata": {},
   "outputs": [
    {
     "data": {
      "text/plain": [
       "'Sai P:, Priya, Sai: P, P, P'"
      ]
     },
     "execution_count": 22,
     "metadata": {},
     "output_type": "execute_result"
    }
   ],
   "source": [
    "a = \"Sai Raj:, Priya, Sai: Raj, Raj, Raj\"  # SYntax: re.sub(pattern, replace, string)\n",
    "mat = re.sub(r\"R\\w+\", \"P\", a)\n",
    "mat"
   ]
  },
  {
   "cell_type": "code",
   "execution_count": null,
   "metadata": {},
   "outputs": [],
   "source": [
    "\n",
    "# Quantifiers: we can define how the character, the meta character can be repeat.\n",
    "\n",
    "# Meta Character: special meaning of a characters.\n",
    "\n",
    "# [ ] = set of characters.\n",
    "# ^ = matches the start of the string.(^hello-shuld strt with h only)\n",
    "# $ = matches the end of the string.(hello$-shuld end with o only)\n",
    "# * = it will repeat the given character with 0 or more(ruby*--rub ,ruby,rubyy,.....)\n",
    "# + = it will repeat the given character with 1 or more(ruby+-- ruby,rubyy,rubyyy....)\n",
    "# {}= it will repeat the character with the given number(ruby{2}--rubyy)\n",
    "#     it will repeat the character with the given range also(ruby{2,10}--it will repeat within 2 to 10)\n",
    "# |=it will chooose any one (ruby|siri|rupa)\n",
    "# ()=it will group the characters.\n",
    "\n",
    "\n",
    "# Special Character: it is follwed by \\\n",
    "    \n",
    "# \\A= Returns a match if the specified characters are at the beginning of the string(\"\\AThe\")\n",
    "#      it shuld start with capital character\n",
    "# \\d=Returns a match where the string contains digits (numbers from 0-9)(\"\\d\")\n",
    "# \\D=Returns a match where the string DOES NOT contain digits(\"\\D\")\n",
    "# \\s=Returns a match where the string contains a white space character(\"\\s\")\n",
    "# \\S=Returns a match where the string DOES NOT contain a white space character(\"\\S\")\n",
    "# \\w=Returns a match where the string contains any word characters (characters from a to Z, digits from 0-9, and\n",
    "#                                                                   the underscore _ character)(\"\\w\")\n",
    "# \\W=Returns a match where the string DOES NOT contain any word characters\n",
    "Methods:\n",
    "In [ ]:\n",
    "# 1.re.match: it will search for beginning of the string\n",
    "# 2.re.search: it will search for beginning occuranve of the string\n",
    "# 3.findall: it will search the total string\n",
    "# 4.split: it will split the string\n",
    "# 5.sub:replace one or many matches with a string.\n"
   ]
  },
  {
   "cell_type": "code",
   "execution_count": 11,
   "metadata": {},
   "outputs": [],
   "source": [
    "import re\n",
    "txt = \"the string\"\n",
    "x   = re.search(\"^The.*Spain$\", txt)"
   ]
  },
  {
   "cell_type": "code",
   "execution_count": 2,
   "metadata": {},
   "outputs": [
    {
     "name": "stdout",
     "output_type": "stream",
     "text": [
      "<re.Match object; span=(5, 7), match='ai'>\n"
     ]
    }
   ],
   "source": [
    "import re\n",
    "\n",
    "str = \"The rain in Spain\"\n",
    "x = re.search(\"ai\", str)\n",
    "print(x) #this will print an object"
   ]
  },
  {
   "cell_type": "code",
   "execution_count": 12,
   "metadata": {},
   "outputs": [
    {
     "ename": "SyntaxError",
     "evalue": "unexpected character after line continuation character (<ipython-input-12-d3fdc130e0ed>, line 4)",
     "output_type": "error",
     "traceback": [
      "\u001b[1;36m  File \u001b[1;32m\"<ipython-input-12-d3fdc130e0ed>\"\u001b[1;36m, line \u001b[1;32m4\u001b[0m\n\u001b[1;33m    x = re.search(\"\"\\bS\\w+\", str)\u001b[0m\n\u001b[1;37m                                 ^\u001b[0m\n\u001b[1;31mSyntaxError\u001b[0m\u001b[1;31m:\u001b[0m unexpected character after line continuation character\n"
     ]
    }
   ],
   "source": [
    "import re\n",
    "\n",
    "str = \"The rain in Spain\"\n",
    "x = re.search(\"\"\\bS\\w+\", str)\n",
    "print(x.string)\n",
    "\n",
    "\n",
    "\n"
   ]
  },
  {
   "cell_type": "code",
   "execution_count": null,
   "metadata": {},
   "outputs": [],
   "source": []
  },
  {
   "cell_type": "code",
   "execution_count": 8,
   "metadata": {},
   "outputs": [
    {
     "name": "stdout",
     "output_type": "stream",
     "text": [
      "No9pain9no gain\n"
     ]
    }
   ],
   "source": [
    "#replace the two occurence\n",
    "import re\n",
    "\n",
    "str = \"No pain no gain\"\n",
    "x = re.sub(\"\\s\", \"9\", str, 2)\n",
    "print(x)"
   ]
  },
  {
   "cell_type": "code",
   "execution_count": 7,
   "metadata": {},
   "outputs": [
    {
     "name": "stdout",
     "output_type": "stream",
     "text": [
      "no9pain9no9gain\n"
     ]
    }
   ],
   "source": [
    "import re\n",
    "\n",
    "str = \"no pain no gain\"\n",
    "x = re.sub(\"\\s\", \"9\", str)\n",
    "print(x)"
   ]
  },
  {
   "cell_type": "markdown",
   "metadata": {},
   "source": [
    "## QUESTIONS"
   ]
  },
  {
   "cell_type": "code",
   "execution_count": 15,
   "metadata": {},
   "outputs": [
    {
     "name": "stdout",
     "output_type": "stream",
     "text": [
      "enter ur namepApittyshfg\n"
     ]
    },
    {
     "data": {
      "text/plain": [
       "'pApittys'"
      ]
     },
     "execution_count": 15,
     "metadata": {},
     "output_type": "execute_result"
    }
   ],
   "source": [
    "# Function to define to test username having 8 characters\n",
    "import re\n",
    "def name(a):\n",
    "    z=re.match(\"([a-z]|[A-Z]){8}\",a)\n",
    "    return z\n",
    "a=input(\"enter ur name\")\n",
    "name(a).group()\n"
   ]
  },
  {
   "cell_type": "code",
   "execution_count": 3,
   "metadata": {},
   "outputs": [
    {
     "name": "stdout",
     "output_type": "stream",
     "text": [
      "enter a hall ticket1521A123456\n"
     ]
    },
    {
     "data": {
      "text/plain": [
       "'1521A1234'"
      ]
     },
     "execution_count": 3,
     "metadata": {},
     "output_type": "execute_result"
    }
   ],
   "source": [
    "import re\n",
    "def roll_number(a):\n",
    "    z=re.match(\"[1][5][2][1][A][0-9]{4}\",a)\n",
    "    return z\n",
    "a=input(\"enter a hall ticket\")\n",
    "roll_number(a).group()"
   ]
  },
  {
   "cell_type": "code",
   "execution_count": null,
   "metadata": {},
   "outputs": [],
   "source": []
  }
 ],
 "metadata": {
  "kernelspec": {
   "display_name": "Python 3",
   "language": "python",
   "name": "python3"
  },
  "language_info": {
   "codemirror_mode": {
    "name": "ipython",
    "version": 3
   },
   "file_extension": ".py",
   "mimetype": "text/x-python",
   "name": "python",
   "nbconvert_exporter": "python",
   "pygments_lexer": "ipython3",
   "version": "3.7.4"
  }
 },
 "nbformat": 4,
 "nbformat_minor": 2
}
