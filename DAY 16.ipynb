{
 "cells": [
  {
   "cell_type": "code",
   "execution_count": 1,
   "metadata": {},
   "outputs": [
    {
     "name": "stdout",
     "output_type": "stream",
     "text": [
      "enter the number10\n",
      "1 2 3 4 5 6 7 8 9 10 \n",
      " try again\n"
     ]
    }
   ],
   "source": [
    "#to create a simple game\n",
    "i=1\n",
    "j=int(input(\"enter the number\"))\n",
    "while i<=j:\n",
    "    print(i,end=\" \")\n",
    "    i=i+1\n",
    "if i==21:\n",
    "    print(\"\\n congrats\")\n",
    "else:\n",
    "    print(\"\\n try again\")\n",
    "\n"
   ]
  },
  {
   "cell_type": "code",
   "execution_count": 2,
   "metadata": {},
   "outputs": [
    {
     "name": "stdout",
     "output_type": "stream",
     "text": [
      "enter a stringRHRRgh\n",
      "R H R R g h \n",
      " programming\n"
     ]
    }
   ],
   "source": [
    "#2.Function to return the output as \"SameCount\" or \"Programming\"\n",
    "def count(a):\n",
    "    ucount=0\n",
    "    lcount=0\n",
    "    for i in a:\n",
    "        if ord(i)>=65 and ord(i)<=90:\n",
    "            print(i,end=' ')\n",
    "            ucount=ucount+1\n",
    "        elif ord(i)>=97 and ord(i)<=122:\n",
    "            print(i,end=' ')\n",
    "            lcount=lcount+1\n",
    "    if ucount==lcount:\n",
    "        print(\"\\n same count\")\n",
    "    else:\n",
    "        print(\"\\n programming\")\n",
    "a=input(\"enter a string\")\n",
    "count(a)\n"
   ]
  },
  {
   "cell_type": "code",
   "execution_count": 4,
   "metadata": {},
   "outputs": [
    {
     "name": "stdout",
     "output_type": "stream",
     "text": [
      "enter a starting number20\n",
      "enter a ending number30\n",
      "20 22 24 26 28 30 "
     ]
    }
   ],
   "source": [
    "#.Function to print the alternate numbers\n",
    "def alt_number(a,b):\n",
    "    for i in range(a,b+1,2):\n",
    "        print(i,end=\" \")\n",
    "        i=i+1\n",
    "a=int(input(\"enter a starting number\"))\n",
    "b=int(input(\"enter a ending number\"))\n",
    "alt_number(a,b)\n",
    "\n"
   ]
  },
  {
   "cell_type": "code",
   "execution_count": 10,
   "metadata": {},
   "outputs": [
    {
     "name": "stdout",
     "output_type": "stream",
     "text": [
      "enter the number:10 \n",
      "[35, 26, 33, 26, 23, 34, 32, 34, 29, 34]\n"
     ]
    }
   ],
   "source": [
    "#Function to generate N random numbers in given range\n",
    "import random\n",
    "int=input(\"enter the number:\")\n",
    "def Rand(start, end, num): \n",
    "    res = [] \n",
    "  \n",
    "    for j in range(num): \n",
    "        res.append(random.randint(start, end)) \n",
    "  \n",
    "    return res \n",
    "num = 10\n",
    "start = 20\n",
    "end = 40\n",
    "print(Rand(start, end, num)) "
   ]
  },
  {
   "cell_type": "code",
   "execution_count": 13,
   "metadata": {},
   "outputs": [
    {
     "name": "stdout",
     "output_type": "stream",
     "text": [
      "enter ur nameYATHIRAJAM\n"
     ]
    },
    {
     "data": {
      "text/plain": [
       "'YATHIRAJ'"
      ]
     },
     "execution_count": 13,
     "metadata": {},
     "output_type": "execute_result"
    }
   ],
   "source": [
    "#Function to define to test username having 8 charcters \n",
    "#Upper case and lower case\n",
    "import re\n",
    "def name(a):\n",
    "    x=re.match(\"[a-zA-Z]{8}\",a).group()\n",
    "    return x\n",
    "a=input(\"enter ur name\")\n",
    "name(a)\n",
    "\n"
   ]
  },
  {
   "cell_type": "code",
   "execution_count": 14,
   "metadata": {},
   "outputs": [
    {
     "data": {
      "text/plain": [
       "[['a', 'b', 'c'], ['d', 'e', 'f'], ['g', 'h', 'i']]"
      ]
     },
     "execution_count": 14,
     "metadata": {},
     "output_type": "execute_result"
    }
   ],
   "source": [
    "# 6. Input: a = [\"abc\", \"def\", \"ghi\"]\n",
    "#  Output : [['a', 'b', 'c'], ['d', 'e', 'f'], ['g', 'h', 'i']]\n",
    "\n",
    "# a=input(\"enter a string\")\n",
    "# c=list(a)\n",
    "a = [\"abc\", \"def\", \"ghi\"]\n",
    "\n",
    "# using mapping:\n",
    "list(map(list,a))\n",
    "\n",
    "# list comprehension:\n",
    "[list(b) for b in a]\n",
    "\n",
    "\n"
   ]
  },
  {
   "cell_type": "code",
   "execution_count": 15,
   "metadata": {},
   "outputs": [
    {
     "name": "stdout",
     "output_type": "stream",
     "text": [
      "\n",
      "Here is a list of the Python keywords.  Enter any keyword to get more help.\n",
      "\n",
      "False               class               from                or\n",
      "None                continue            global              pass\n",
      "True                def                 if                  raise\n",
      "and                 del                 import              return\n",
      "as                  elif                in                  try\n",
      "assert              else                is                  while\n",
      "async               except              lambda              with\n",
      "await               finally             nonlocal            yield\n",
      "break               for                 not                 \n",
      "\n"
     ]
    }
   ],
   "source": [
    "help(\"keywords\")"
   ]
  },
  {
   "cell_type": "code",
   "execution_count": null,
   "metadata": {
    "collapsed": true
   },
   "outputs": [],
   "source": [
    "1`"
   ]
  }
 ],
 "metadata": {
  "kernelspec": {
   "display_name": "Python 3",
   "language": "python",
   "name": "python3"
  },
  "language_info": {
   "codemirror_mode": {
    "name": "ipython",
    "version": 3
   },
   "file_extension": ".py",
   "mimetype": "text/x-python",
   "name": "python",
   "nbconvert_exporter": "python",
   "pygments_lexer": "ipython3",
   "version": "3.7.4"
  }
 },
 "nbformat": 4,
 "nbformat_minor": 2
}
