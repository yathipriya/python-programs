{
 "cells": [
  {
   "cell_type": "code",
   "execution_count": null,
   "metadata": {},
   "outputs": [],
   "source": [
    "Read the input as string and Output will be alternate words in lower case\n",
    "Example #1:\n",
    "Input : Learn Python Programming EASy\n",
    "Output : python easy\n",
    "a = input(\"enter a string\")\n",
    "x=a.split()\n",
    "x\n",
    "y=[]\n",
    "for i in x:\n",
    "    y.append(i)\n",
    "#print(y)\n",
    "z=\" \"\n",
    "for i in range(len(y)):\n",
    "    if(i%2)==1:\n",
    "        z=z+y[i]\n",
    "print(z,end=\" \")\n",
    "z.lower()"
   ]
  },
  {
   "cell_type": "code",
   "execution_count": null,
   "metadata": {},
   "outputs": [],
   "source": [
    "Read the input as string and Print the Output as Only even digit sum\n",
    "Example #1:\n",
    "Input : Applc18iation89\n",
    "Output : 16 (8+8)\n",
    "\n",
    "    "
   ]
  },
  {
   "cell_type": "markdown",
   "metadata": {},
   "source": [
    "# 4"
   ]
  },
  {
   "cell_type": "code",
   "execution_count": 6,
   "metadata": {},
   "outputs": [
    {
     "name": "stdout",
     "output_type": "stream",
     "text": [
      "enter a stringPythOnPRograMMinG\n",
      "pYTHoNprOGRmmINg"
     ]
    }
   ],
   "source": [
    "Read the string as input and Print the output following the manner\n",
    "Example #1:\n",
    "Input: PythonProgrMMINg \n",
    "Output: pYTHONpROGRmminG\n",
    "a=input(\"enter a string\")\n",
    "for i in a:\n",
    "    if ord(i)>97 and ord(i)<122:\n",
    "        print(i.upper(),end=\"\")\n",
    "    elif ord(i)>65 and ord(i)< 90:\n",
    "        print(i.lower(),end=\"\")"
   ]
  },
  {
   "cell_type": "code",
   "execution_count": 1,
   "metadata": {},
   "outputs": [
    {
     "name": "stdout",
     "output_type": "stream",
     "text": [
      "enter a string:application\n",
      "enter a character:p\n"
     ]
    },
    {
     "data": {
      "text/plain": [
       "2"
      ]
     },
     "execution_count": 1,
     "metadata": {},
     "output_type": "execute_result"
    }
   ],
   "source": [
    "#Read the string and char as input and Print no of occurance of character in the given string\n",
    "#Example #1;\n",
    "#Input : Application,p\n",
    "#Output : 2\n",
    "a=input(\"enter a string:\")\n",
    "b=input(\"enter a character:\")\n",
    "a.count(b)"
   ]
  },
  {
   "cell_type": "markdown",
   "metadata": {},
   "source": [
    "# loops"
   ]
  },
  {
   "cell_type": "code",
   "execution_count": 2,
   "metadata": {},
   "outputs": [
    {
     "name": "stdout",
     "output_type": "stream",
     "text": [
      "Input an integer : 1\n",
      "123\n"
     ]
    }
   ],
   "source": [
    "#The program must accept an integer N as the input. Need to print the largest digit from the given number.\n",
    "\n",
    "#Example Input/Output 1:\n",
    "\n",
    "#Input1:\n",
    "\n",
    "#6918\n",
    "\n",
    "#Output:\n",
    "\n",
    "#9\n",
    "\n",
    "#Input2:\n",
    "\n",
    "#178511\n",
    "\n",
    "#Output:\n",
    "\n",
    "#8\n",
    "a = int(input(\"Input an integer : \"))\n",
    "n1 = int( \"%s\" % a )\n",
    "n2 = int( \"%s%s\" % (a,a) )\n",
    "n3 = int( \"%s%s%s\" % (a,a,a) )\n",
    "print (n1+n2+n3)"
   ]
  },
  {
   "cell_type": "code",
   "execution_count": null,
   "metadata": {},
   "outputs": [],
   "source": []
  },
  {
   "cell_type": "code",
   "execution_count": null,
   "metadata": {},
   "outputs": [],
   "source": []
  }
 ],
 "metadata": {
  "kernelspec": {
   "display_name": "Python 3",
   "language": "python",
   "name": "python3"
  },
  "language_info": {
   "codemirror_mode": {
    "name": "ipython",
    "version": 3
   },
   "file_extension": ".py",
   "mimetype": "text/x-python",
   "name": "python",
   "nbconvert_exporter": "python",
   "pygments_lexer": "ipython3",
   "version": "3.7.4"
  }
 },
 "nbformat": 4,
 "nbformat_minor": 2
}
