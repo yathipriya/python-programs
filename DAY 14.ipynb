{
 "cells": [
  {
   "cell_type": "markdown",
   "metadata": {},
   "source": [
    "## QUESTION"
   ]
  },
  {
   "cell_type": "code",
   "execution_count": 1,
   "metadata": {},
   "outputs": [
    {
     "name": "stdout",
     "output_type": "stream",
     "text": [
      "enter ur nameaANOPEEND\n"
     ]
    },
    {
     "data": {
      "text/plain": [
       "'aANOPEEN'"
      ]
     },
     "execution_count": 1,
     "metadata": {},
     "output_type": "execute_result"
    }
   ],
   "source": [
    "# Function to define to test username having 8 characters\n",
    "import re\n",
    "def name(a):\n",
    "    z=re.match(\"([a-z]|[A-Z]){8}\",a)\n",
    "    return z\n",
    "a=input(\"enter ur name\")\n",
    "name(a).group()\n"
   ]
  },
  {
   "cell_type": "code",
   "execution_count": 2,
   "metadata": {},
   "outputs": [
    {
     "name": "stdout",
     "output_type": "stream",
     "text": [
      "enter a hall ticket1521A90619\n"
     ]
    },
    {
     "data": {
      "text/plain": [
       "'1521A9061'"
      ]
     },
     "execution_count": 2,
     "metadata": {},
     "output_type": "execute_result"
    }
   ],
   "source": [
    "import re\n",
    "def roll_number(a):\n",
    "    z=re.match(\"[1][5][2][1][A][0-9]{4}\",a)\n",
    "    return z\n",
    "a=input(\"enter a hall ticket\")\n",
    "roll_number(a).group()"
   ]
  },
  {
   "cell_type": "code",
   "execution_count": 4,
   "metadata": {},
   "outputs": [
    {
     "name": "stdout",
     "output_type": "stream",
     "text": [
      "enter a number9348581033\n"
     ]
    },
    {
     "data": {
      "text/plain": [
       "'9348581033'"
      ]
     },
     "execution_count": 4,
     "metadata": {},
     "output_type": "execute_result"
    }
   ],
   "source": [
    "#3. Regular Expression to match the Indian Mobile Number\n",
    "import re\n",
    "def digit(a):\n",
    "    #a=input(\"enter a number\")\n",
    "    b=re.match(\"^[0-9]{10}\",a)\n",
    "    return b\n",
    "a=input(\"enter a number\")\n",
    "digit(a).group()"
   ]
  },
  {
   "cell_type": "code",
   "execution_count": null,
   "metadata": {},
   "outputs": [],
   "source": [
    "import re\n",
    "def password(a):\n",
    "    z=re.search('[a-zA-Z]\\d(\\@|#|\\!){6,15}$',a)\n",
    "    return z\n",
    "a=input(\"enter ur password\")\n",
    "password(a).group()\n",
    "    "
   ]
  },
  {
   "cell_type": "markdown",
   "metadata": {},
   "source": [
    "Validate the Emailid\n",
    "Example : Username@DomainName.extension\n",
    "Example : dsps@gmail.com\n",
    "Username :\n",
    "         Len of string will be [6-15]\n",
    "No Spl characters except Underscore(_) and dot(.)\n",
    "Username should not begins with Underscore(_)\n",
    "All characters set Digits, Lower case and Upper Case\n",
    "Example : Anil_1889\n"
   ]
  },
  {
   "cell_type": "code",
   "execution_count": null,
   "metadata": {},
   "outputs": [],
   "source": [
    "import re\n",
    "def emailid(a):\n",
    "    z=re.match([a-z]\\d(\\@\\))"
   ]
  }
 ],
 "metadata": {
  "kernelspec": {
   "display_name": "Python 3",
   "language": "python",
   "name": "python3"
  },
  "language_info": {
   "codemirror_mode": {
    "name": "ipython",
    "version": 3
   },
   "file_extension": ".py",
   "mimetype": "text/x-python",
   "name": "python",
   "nbconvert_exporter": "python",
   "pygments_lexer": "ipython3",
   "version": "3.7.4"
  }
 },
 "nbformat": 4,
 "nbformat_minor": 2
}
