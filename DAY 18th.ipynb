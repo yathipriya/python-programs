{
 "cells": [
  {
   "cell_type": "markdown",
   "metadata": {},
   "source": [
    "# Python - Exceptions Handling"
   ]
  },
  {
   "cell_type": "markdown",
   "metadata": {},
   "source": [
    "### Python provides two very important features to handle any unexpected error in your Python programs and to add debugging capabilities in them −\n",
    "### Exception is the base class for all the exceptions in python. \n",
    "### The array element whose index is out of bound and handle the corresponding exception.\n"
   ]
  },
  {
   "cell_type": "markdown",
   "metadata": {},
   "source": [
    "# Exception\n",
    "\n",
    "Base class for all exceptions\n",
    "\n",
    "\t\n",
    "StopIteration\n",
    "\n",
    "Raised when the next() method of an iterator does not point to any object.\n",
    "\n",
    "\t\n",
    "#### SystemExit\n",
    "\n",
    "Raised by the sys.exit() function.\n",
    "\n",
    "#### StandardError\n",
    "\n",
    "Base class for all built-in exceptions except StopIteration and SystemExit.\n",
    "#### ArithmeticError\n",
    "\n",
    "Base class for all errors that occur for numeric calculation.\n",
    "\t\n",
    "#### OverflowError\n",
    "\n",
    "Raised when a calculation exceeds maximum limit for a numeric type.\n",
    "\n",
    "\t\n",
    "#### FloatingPointError\n",
    "\n",
    "Raised when a floating point calculation fails.\n",
    "\n",
    "\t\n",
    "#### ZeroDivisionError\n",
    "\n",
    "Raised when division or modulo by zero takes place for all numeric types.\n",
    "\n",
    "#### AssertionError\n",
    "\n",
    "Raised in case of failure of the Assert statement.\n",
    "\n",
    "\t\n",
    "#### AttributeError\n",
    "\n",
    "Raised in case of failure of attribute reference or assignment.\n",
    "\n",
    "#### EOFError\n",
    "\n",
    "Raised when there is no input from either the raw_input() or input() function and the end of file is reached.\n",
    "\n",
    "\t\n",
    "#### ImportError\n",
    "\n",
    "Raised when an import statement fails.\n",
    "\n",
    "#### \tKeyboardInterrupt\n",
    "\n",
    "Raised when the user interrupts program execution, usually by pressing Ctrl+c.\n",
    "\n",
    "#### LookupError\n",
    "\n",
    "Base class for all lookup errors.\n",
    "\n",
    "\t\n",
    "#### IndexError\n",
    "\n",
    "Raised when an index is not found in a sequence.\n",
    "\n",
    "#### KeyError\n",
    "\n",
    "Raised when the specified key is not found in the dictionary.\n",
    "\n",
    "#### NameError\n",
    "\n",
    "Raised when an identifier is not found in the local or global namespace.\n",
    "\n",
    "#### UnboundLocalError\n",
    "\n",
    "Raised when trying to access a local variable in a function or method but no value has been assigned to it.\n",
    "\n",
    "#### \tEnvironmentError\n",
    "\n",
    "Base class for all exceptions that occur outside the Python environment.\n",
    "\n",
    "\n",
    "#### IOError\n",
    "\n",
    "Raised when an input/ output operation fails, such as the print statement or the open() function when trying to open a file that does not exist.\n",
    "\n",
    "#### IOError\n",
    "\n",
    "Raised for operating system-related errors.\n",
    "\n",
    "#### SyntaxError\n",
    "\n",
    "Raised when there is an error in Python syntax.\n",
    "\n",
    "\t\n",
    "#### IndentationError\n",
    "\n",
    "Raised when indentation is not specified properly.\n",
    "\n",
    "#### SystemError\n",
    "\n",
    "Raised when the interpreter finds an internal problem, but when this error is encountered the Python interpreter does "
   ]
  },
  {
   "cell_type": "markdown",
   "metadata": {},
   "source": [
    "### Assertions in Python\n",
    "An assertion is a sanity-check that you can turn on or turn off when you are done with your testing of the program.\n",
    "\n",
    "The easiest way to think of an assertion is to liken it to a raise-if statement (or to be more accurate, a raise-if-not statement). An expression is tested, and if the result comes up false, an exception is raised.\n",
    "\n",
    "Assertions are carried out by the assert statement, the newest keyword to Python, introduced in version 1.5.\n",
    "\n",
    "Programmers often place assertions at the start of a function to check for valid input, and after a function call to check for valid output."
   ]
  },
  {
   "cell_type": "markdown",
   "metadata": {},
   "source": [
    "### What is Exception?\n",
    "An exception is an event, which occurs during the execution of a program that disrupts the normal flow of the program's instructions. In general, when a Python script encounters a situation that it cannot cope with, it raises an exception. An exception is a Python object that represents an error.\n",
    "\n",
    "When a Python script raises an exception, it must either handle the exception immediately otherwise it terminates and quits.\n",
    "\n",
    "#### Handling an exception\n",
    "If you have some suspicious code that may raise an exception, you can defend your program by placing the suspicious code in a try: block. After the try: block, include an except: statement, followed by a block of code which handles the problem as elegantly as possible.\n",
    "\n",
    "#### Syntax\n",
    "Here is simple syntax of try....except...else blocks −"
   ]
  },
  {
   "cell_type": "code",
   "execution_count": 4,
   "metadata": {},
   "outputs": [
    {
     "ename": "SyntaxError",
     "evalue": "Missing parentheses in call to 'print'. Did you mean print(\"Error: can\\'t find file or read data\")? (<ipython-input-4-a60151fbaae3>, line 6)",
     "output_type": "error",
     "traceback": [
      "\u001b[1;36m  File \u001b[1;32m\"<ipython-input-4-a60151fbaae3>\"\u001b[1;36m, line \u001b[1;32m6\u001b[0m\n\u001b[1;33m    print \"Error: can\\'t find file or read data\"\u001b[0m\n\u001b[1;37m                                               ^\u001b[0m\n\u001b[1;31mSyntaxError\u001b[0m\u001b[1;31m:\u001b[0m Missing parentheses in call to 'print'. Did you mean print(\"Error: can\\'t find file or read data\")?\n"
     ]
    }
   ],
   "source": [
    "### example\n",
    "try:\n",
    "   fh = open(\"testfile\", \"w\")\n",
    "   fh.write(\"This is my test file for exception handling!!\")\n",
    "except IOError:\n",
    "   print \"Error: can\\'t find file or read data\"\n",
    "else:\n",
    "   print \"Written content in the file successfully\"\n",
    "   fh.close()"
   ]
  },
  {
   "cell_type": "code",
   "execution_count": 5,
   "metadata": {},
   "outputs": [
    {
     "ename": "SyntaxError",
     "evalue": "Missing parentheses in call to 'print'. Did you mean print(\"Error: can\\'t find file or read data\")? (<ipython-input-5-6df621dd98c2>, line 7)",
     "output_type": "error",
     "traceback": [
      "\u001b[1;36m  File \u001b[1;32m\"<ipython-input-5-6df621dd98c2>\"\u001b[1;36m, line \u001b[1;32m7\u001b[0m\n\u001b[1;33m    print \"Error: can\\'t find file or read data\"\u001b[0m\n\u001b[1;37m                                               ^\u001b[0m\n\u001b[1;31mSyntaxError\u001b[0m\u001b[1;31m:\u001b[0m Missing parentheses in call to 'print'. Did you mean print(\"Error: can\\'t find file or read data\")?\n"
     ]
    }
   ],
   "source": [
    "#!/usr/bin/python\n",
    "\n",
    "try:\n",
    "   fh = open(\"testfile\", \"r\")\n",
    "   fh.write(\"This is my test file for exception handling!!\")\n",
    "except IOError:\n",
    "   print \"Error: can\\'t find file or read data\"\n",
    "else:\n",
    "   print \"Written content in the file successfully\"\n",
    "This produces the following result −"
   ]
  },
  {
   "cell_type": "markdown",
   "metadata": {},
   "source": [
    "## Argument of an Exception\n",
    "An exception can have an argument, which is a value that gives additional information about the problem.\n",
    "The contents of the argument vary by exception.You capture an exception's argument by supplying a variable in the except clause "
   ]
  },
  {
   "cell_type": "markdown",
   "metadata": {},
   "source": [
    "##### If you write the code to handle a single exception, you can have a variable follow the name of the exception in the except statement.\n",
    "If you are trapping multiple exceptions, you can have a variable follow the tuple of the exception.\n",
    "This variable receives the value of the exception mostly containing the cause of the exception.\n",
    "The variable can receive a single value or multiple values in the form of a tuple.\n",
    "This tuple usually contains the error string, the error number, and an error location."
   ]
  },
  {
   "cell_type": "code",
   "execution_count": 10,
   "metadata": {},
   "outputs": [
    {
     "ename": "IndentationError",
     "evalue": "unindent does not match any outer indentation level (<tokenize>, line 4)",
     "output_type": "error",
     "traceback": [
      "\u001b[1;36m  File \u001b[1;32m\"<tokenize>\"\u001b[1;36m, line \u001b[1;32m4\u001b[0m\n\u001b[1;33m    break\u001b[0m\n\u001b[1;37m    ^\u001b[0m\n\u001b[1;31mIndentationError\u001b[0m\u001b[1;31m:\u001b[0m unindent does not match any outer indentation level\n"
     ]
    }
   ],
   "source": [
    "while True:\n",
    "     try:\n",
    "            x = int(input(\"Please enter a number: \"))\n",
    "         break\n",
    "    except ValueError:\n",
    "        print(\"Oops!  That was no valid number.  Try again...\")"
   ]
  },
  {
   "cell_type": "code",
   "execution_count": null,
   "metadata": {},
   "outputs": [],
   "source": []
  }
 ],
 "metadata": {
  "kernelspec": {
   "display_name": "Python 3",
   "language": "python",
   "name": "python3"
  },
  "language_info": {
   "codemirror_mode": {
    "name": "ipython",
    "version": 3
   },
   "file_extension": ".py",
   "mimetype": "text/x-python",
   "name": "python",
   "nbconvert_exporter": "python",
   "pygments_lexer": "ipython3",
   "version": "3.7.4"
  }
 },
 "nbformat": 4,
 "nbformat_minor": 2
}
